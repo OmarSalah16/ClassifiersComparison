{
 "cells": [
  {
   "cell_type": "code",
   "execution_count": 66,
   "id": "6547494b",
   "metadata": {},
   "outputs": [],
   "source": [
    "import pandas as pd\n",
    "import numpy as np\n",
    "\n",
    "import matplotlib.pyplot as plt\n",
    "\n",
    "from sklearn import metrics\n",
    "from sklearn import svm\n",
    "from sklearn.neighbors import KNeighborsClassifier\n",
    "from sklearn.model_selection import train_test_split\n",
    "from sklearn.preprocessing import LabelEncoder, StandardScaler\n",
    "from sklearn.metrics import classification_report"
   ]
  },
  {
   "cell_type": "code",
   "execution_count": 67,
   "id": "d8f87270",
   "metadata": {
    "scrolled": false
   },
   "outputs": [
    {
     "name": "stdout",
     "output_type": "stream",
     "text": [
      "      Pregnancies  Glucose  BloodPressure  SkinThickness  Insulin   BMI  \\\n",
      "0               2      138             62             35        0  33.6   \n",
      "1               0       84             82             31      125  38.2   \n",
      "2               0      145              0              0        0  44.2   \n",
      "3               0      135             68             42      250  42.3   \n",
      "4               1      139             62             41      480  40.7   \n",
      "...           ...      ...            ...            ...      ...   ...   \n",
      "1995            2       75             64             24       55  29.7   \n",
      "1996            8      179             72             42      130  32.7   \n",
      "1997            6       85             78              0        0  31.2   \n",
      "1998            0      129            110             46      130  67.1   \n",
      "1999            2       81             72             15       76  30.1   \n",
      "\n",
      "      DiabetesPedigreeFunction  Age  Outcome  \n",
      "0                        0.127   47        1  \n",
      "1                        0.233   23        0  \n",
      "2                        0.630   31        1  \n",
      "3                        0.365   24        1  \n",
      "4                        0.536   21        0  \n",
      "...                        ...  ...      ...  \n",
      "1995                     0.370   33        0  \n",
      "1996                     0.719   36        1  \n",
      "1997                     0.382   42        0  \n",
      "1998                     0.319   26        1  \n",
      "1999                     0.547   25        0  \n",
      "\n",
      "[2000 rows x 9 columns]\n"
     ]
    }
   ],
   "source": [
    "dataset = pd.read_csv('F:\\MIU stuff\\Semester 7\\Selected Topics\\Project\\diabetes.csv')\n",
    "print (dataset)"
   ]
  },
  {
   "cell_type": "code",
   "execution_count": 68,
   "id": "6e0acbf8",
   "metadata": {},
   "outputs": [
    {
     "name": "stdout",
     "output_type": "stream",
     "text": [
      "      Pregnancies  Glucose  BloodPressure  SkinThickness  Insulin   BMI  \\\n",
      "0               2    138.0        62.0000         35.000   80.254  33.6   \n",
      "1               0     84.0        82.0000         31.000  125.000  38.2   \n",
      "2               0    145.0        69.1455         20.935   80.254  44.2   \n",
      "3               0    135.0        68.0000         42.000  250.000  42.3   \n",
      "4               1    139.0        62.0000         41.000  480.000  40.7   \n",
      "...           ...      ...            ...            ...      ...   ...   \n",
      "1995            2     75.0        64.0000         24.000   55.000  29.7   \n",
      "1996            8    179.0        72.0000         42.000  130.000  32.7   \n",
      "1997            6     85.0        78.0000         20.935   80.254  31.2   \n",
      "1998            0    129.0       110.0000         46.000  130.000  67.1   \n",
      "1999            2     81.0        72.0000         15.000   76.000  30.1   \n",
      "\n",
      "      DiabetesPedigreeFunction  Age  Outcome  \n",
      "0                        0.127   47        1  \n",
      "1                        0.233   23        0  \n",
      "2                        0.630   31        1  \n",
      "3                        0.365   24        1  \n",
      "4                        0.536   21        0  \n",
      "...                        ...  ...      ...  \n",
      "1995                     0.370   33        0  \n",
      "1996                     0.719   36        1  \n",
      "1997                     0.382   42        0  \n",
      "1998                     0.319   26        1  \n",
      "1999                     0.547   25        0  \n",
      "\n",
      "[2000 rows x 9 columns]\n"
     ]
    }
   ],
   "source": [
    "# Preprocessing (Replacing Null Values with Mean)\n",
    "dataset['Glucose'].replace(0, 121.1825, inplace = True)\n",
    "dataset['BloodPressure'].replace(0, 69.1455, inplace = True)\n",
    "dataset['SkinThickness'].replace(0, 20.935, inplace = True)\n",
    "dataset['Insulin'].replace(0, 80.254, inplace = True)\n",
    "dataset['BMI'].replace(np.NaN, 32.193, inplace = True)\n",
    "dataset['DiabetesPedigreeFunction'].replace(0, 0.47093, inplace = True)\n",
    "dataset['Age'].replace(0, 33, inplace = True)\n",
    "print(dataset)"
   ]
  },
  {
   "cell_type": "code",
   "execution_count": 69,
   "id": "592a37ef",
   "metadata": {},
   "outputs": [
    {
     "name": "stdout",
     "output_type": "stream",
     "text": [
      "              precision    recall  f1-score  support\n",
      "0              0.829851  0.868750  0.848855  320.000\n",
      "1              0.745455  0.683333  0.713043  180.000\n",
      "accuracy       0.802000  0.802000  0.802000    0.802\n",
      "macro avg      0.787653  0.776042  0.780949  500.000\n",
      "weighted avg   0.799468  0.802000  0.799963  500.000\n",
      "Accuracy: 0.778\n"
     ]
    }
   ],
   "source": [
    "# KNN Classifier\n",
    "X = dataset.drop('Outcome', axis=1)\n",
    "y = dataset['Outcome']\n",
    "\n",
    "X_train, X_test, y_train, y_test = train_test_split(X, y, shuffle =True, test_size=0.25, random_state=42)\n",
    "\n",
    "sc = StandardScaler()\n",
    "X_train = sc.fit_transform(X_train)\n",
    "X_test = sc.transform(X_test)\n",
    "\n",
    "knn = KNeighborsClassifier(n_neighbors = 7)\n",
    "knn.fit(X_train, y_train)\n",
    "\n",
    "predKNN = knn.predict(X_test)\n",
    "reportKNN = classification_report(y_test, predKNN, output_dict = True)\n",
    "crKNN = pd.DataFrame(reportKNN).transpose()\n",
    "print(crKNN)\n",
    "print(\"Accuracy:\", metrics.accuracy_score(y_test, y_pred))"
   ]
  },
  {
   "cell_type": "code",
   "execution_count": 70,
   "id": "3438b09f",
   "metadata": {},
   "outputs": [
    {
     "name": "stdout",
     "output_type": "stream",
     "text": [
      "Accuracy: 0.778\n",
      "Precision: 0.7446808510638298\n",
      "Recall: 0.5833333333333334\n",
      "F1-score: 0.6542056074766355\n"
     ]
    }
   ],
   "source": [
    "#SVM Classifier\n",
    "clf = svm.SVC(kernel='linear')\n",
    "clf.fit(X_train, y_train)\n",
    "y_pred = clf.predict(X_test)\n",
    "\n",
    "print(\"Accuracy:\", metrics.accuracy_score(y_test, y_pred))\n",
    "print(\"Precision:\", metrics.precision_score(y_test, y_pred))\n",
    "print(\"Recall:\", metrics.recall_score(y_test, y_pred))\n",
    "print(\"F1-score:\", (2*metrics.precision_score(y_test, y_pred)*metrics.recall_score(y_test, y_pred)) / (metrics.precision_score(y_test, y_pred) + metrics.recall_score(y_test, y_pred)))"
   ]
  }
 ],
 "metadata": {
  "kernelspec": {
   "display_name": "Python 3",
   "language": "python",
   "name": "python3"
  },
  "language_info": {
   "codemirror_mode": {
    "name": "ipython",
    "version": 3
   },
   "file_extension": ".py",
   "mimetype": "text/x-python",
   "name": "python",
   "nbconvert_exporter": "python",
   "pygments_lexer": "ipython3",
   "version": "3.8.8"
  }
 },
 "nbformat": 4,
 "nbformat_minor": 5
}
