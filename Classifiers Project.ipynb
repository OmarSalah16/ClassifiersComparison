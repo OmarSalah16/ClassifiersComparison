{
 "cells": [
  {
   "cell_type": "code",
   "execution_count": 16,
   "id": "6547494b",
   "metadata": {},
   "outputs": [],
   "source": [
    "import pandas as pd\n",
    "import numpy as np\n",
    "import matplotlib.pyplot as plt\n",
    "\n",
    "from sklearn.ensemble import RandomForestClassifier\n",
    "from sklearn.tree import DecisionTreeClassifier\n",
    "from sklearn.linear_model import Perceptron\n",
    "from sklearn.linear_model import LogisticRegression\n",
    "from sklearn import svm\n",
    "from sklearn.neighbors import KNeighborsClassifier\n",
    "\n",
    "from sklearn.metrics import confusion_matrix\n",
    "from sklearn.naive_bayes import GaussianNB\n",
    "from sklearn import metrics\n",
    "\n",
    "from sklearn.model_selection import train_test_split\n",
    "from sklearn.preprocessing import LabelEncoder, StandardScaler\n",
    "#from keras.models import Sequential\n",
    "#from keras.layers import Dense\n",
    "#from numpy import loadtxt"
   ]
  },
  {
   "cell_type": "markdown",
   "id": "f4cbd849",
   "metadata": {},
   "source": [
    "# Reading .csv file"
   ]
  },
  {
   "cell_type": "code",
   "execution_count": 17,
   "id": "d8f87270",
   "metadata": {
    "scrolled": true
   },
   "outputs": [
    {
     "name": "stdout",
     "output_type": "stream",
     "text": [
      "           tau1      tau2      tau3      tau4        p1        p2        p3  \\\n",
      "0      2.959060  3.079885  8.381025  9.780754  3.763085 -0.782604 -1.257395   \n",
      "1      9.304097  4.902524  3.047541  1.369357  5.067812 -1.940058 -1.872742   \n",
      "2      8.971707  8.848428  3.046479  1.214518  3.405158 -1.207456 -1.277210   \n",
      "3      0.716415  7.669600  4.486641  2.340563  3.963791 -1.027473 -1.938944   \n",
      "4      3.134112  7.608772  4.943759  9.857573  3.525811 -1.125531 -1.845975   \n",
      "...         ...       ...       ...       ...       ...       ...       ...   \n",
      "59995  2.930406  2.376523  9.487627  6.187797  3.343416 -1.449106 -0.658054   \n",
      "59996  3.392299  2.954947  1.274827  6.894759  4.349512 -0.952437 -1.663661   \n",
      "59997  2.364034  8.776391  2.842030  1.008906  4.299976 -0.943884 -1.380719   \n",
      "59998  9.631511  2.757071  3.994398  7.821347  2.514755 -0.649915 -0.966330   \n",
      "59999  6.530527  4.349695  6.781790  8.673138  3.492807 -1.532193 -1.390285   \n",
      "\n",
      "             p4        g1        g2        g3        g4      stab     stabf  \n",
      "0     -1.723086  0.650456  0.859578  0.887445  0.958034  0.055347  unstable  \n",
      "1     -1.255012  0.413441  0.862414  0.562139  0.781760 -0.005957    stable  \n",
      "2     -0.920492  0.163041  0.766689  0.839444  0.109853  0.003471  unstable  \n",
      "3     -0.997374  0.446209  0.976744  0.929381  0.362718  0.028871  unstable  \n",
      "4     -0.554305  0.797110  0.455450  0.656947  0.820923  0.049860  unstable  \n",
      "...         ...       ...       ...       ...       ...       ...       ...  \n",
      "59995 -1.236256  0.601709  0.813512  0.779642  0.608385  0.023892  unstable  \n",
      "59996 -1.733414  0.502079  0.285880  0.567242  0.366120 -0.025803    stable  \n",
      "59997 -1.975373  0.487838  0.149286  0.986505  0.145984 -0.031810    stable  \n",
      "59998 -0.898510  0.365246  0.889118  0.587558  0.818391  0.037789  unstable  \n",
      "59999 -0.570329  0.073056  0.378761  0.505441  0.942631  0.045263  unstable  \n",
      "\n",
      "[60000 rows x 14 columns]\n"
     ]
    }
   ],
   "source": [
    "dataset = pd.read_csv('grid.csv')\n",
    "print (dataset)"
   ]
  },
  {
   "cell_type": "markdown",
   "id": "137a35ab",
   "metadata": {},
   "source": [
    "# Pre-processing (Replacing String Values with Numerical)"
   ]
  },
  {
   "cell_type": "code",
   "execution_count": 18,
   "id": "6e0acbf8",
   "metadata": {},
   "outputs": [
    {
     "name": "stdout",
     "output_type": "stream",
     "text": [
      "           tau1      tau2      tau3      tau4        p1        p2        p3  \\\n",
      "0      2.959060  3.079885  8.381025  9.780754  3.763085 -0.782604 -1.257395   \n",
      "1      9.304097  4.902524  3.047541  1.369357  5.067812 -1.940058 -1.872742   \n",
      "2      8.971707  8.848428  3.046479  1.214518  3.405158 -1.207456 -1.277210   \n",
      "3      0.716415  7.669600  4.486641  2.340563  3.963791 -1.027473 -1.938944   \n",
      "4      3.134112  7.608772  4.943759  9.857573  3.525811 -1.125531 -1.845975   \n",
      "...         ...       ...       ...       ...       ...       ...       ...   \n",
      "59995  2.930406  2.376523  9.487627  6.187797  3.343416 -1.449106 -0.658054   \n",
      "59996  3.392299  2.954947  1.274827  6.894759  4.349512 -0.952437 -1.663661   \n",
      "59997  2.364034  8.776391  2.842030  1.008906  4.299976 -0.943884 -1.380719   \n",
      "59998  9.631511  2.757071  3.994398  7.821347  2.514755 -0.649915 -0.966330   \n",
      "59999  6.530527  4.349695  6.781790  8.673138  3.492807 -1.532193 -1.390285   \n",
      "\n",
      "             p4        g1        g2        g3        g4      stab  stabf  \n",
      "0     -1.723086  0.650456  0.859578  0.887445  0.958034  0.055347      0  \n",
      "1     -1.255012  0.413441  0.862414  0.562139  0.781760 -0.005957      1  \n",
      "2     -0.920492  0.163041  0.766689  0.839444  0.109853  0.003471      0  \n",
      "3     -0.997374  0.446209  0.976744  0.929381  0.362718  0.028871      0  \n",
      "4     -0.554305  0.797110  0.455450  0.656947  0.820923  0.049860      0  \n",
      "...         ...       ...       ...       ...       ...       ...    ...  \n",
      "59995 -1.236256  0.601709  0.813512  0.779642  0.608385  0.023892      0  \n",
      "59996 -1.733414  0.502079  0.285880  0.567242  0.366120 -0.025803      1  \n",
      "59997 -1.975373  0.487838  0.149286  0.986505  0.145984 -0.031810      1  \n",
      "59998 -0.898510  0.365246  0.889118  0.587558  0.818391  0.037789      0  \n",
      "59999 -0.570329  0.073056  0.378761  0.505441  0.942631  0.045263      0  \n",
      "\n",
      "[60000 rows x 14 columns]\n"
     ]
    }
   ],
   "source": [
    "#dataset['Glucose'].replace(0, 121.1825, inplace = True)\n",
    "#dataset['BloodPressure'].replace(0, 69.1455, inplace = True)\n",
    "#dataset['SkinThickness'].replace(0, 20.935, inplace = True)\n",
    "#dataset['Insulin'].replace(0, 80.254, inplace = True)\n",
    "#dataset['BMI'].replace(np.NaN, 32.193, inplace = True)\n",
    "#dataset['DiabetesPedigreeFunction'].replace(0, 0.47093, inplace = True)\n",
    "#dataset['Age'].replace(0, 33, inplace = True)\n",
    "dataset['stabf'].replace('unstable', 0, inplace = True)\n",
    "dataset['stabf'].replace('stable', 1, inplace = True)\n",
    "print(dataset)"
   ]
  },
  {
   "cell_type": "markdown",
   "id": "25855968",
   "metadata": {},
   "source": [
    "# KNN Classifier"
   ]
  },
  {
   "cell_type": "code",
   "execution_count": 19,
   "id": "592a37ef",
   "metadata": {},
   "outputs": [
    {
     "name": "stdout",
     "output_type": "stream",
     "text": [
      "Confusion Matrix : \n",
      " [[9331  239]\n",
      " [ 402 5028]]\n",
      "\n",
      "Accuracy: 0.9572666666666667\n",
      "Precision: 0.9546231251186634\n",
      "Recall: 0.9259668508287293\n",
      "F1-score: 0.9400766570066373\n"
     ]
    }
   ],
   "source": [
    "X = dataset.drop('stabf', axis=1)\n",
    "y = dataset['stabf']\n",
    "\n",
    "X_train, X_test, y_train, y_test = train_test_split(X, y, shuffle =True, test_size=0.25, random_state=42)\n",
    "\n",
    "sc = StandardScaler()\n",
    "X_train = sc.fit_transform(X_train)\n",
    "X_test = sc.transform(X_test)\n",
    "\n",
    "knn = KNeighborsClassifier(n_neighbors = 7)\n",
    "knn.fit(X_train, y_train)\n",
    "y_pred = knn.predict(X_test)\n",
    "\n",
    "cm = confusion_matrix(y_test, y_pred)  \n",
    "print (\"Confusion Matrix : \\n\", cm)\n",
    "print(\"\")\n",
    "\n",
    "print(\"Accuracy:\", metrics.accuracy_score(y_test, y_pred))\n",
    "print(\"Precision:\", metrics.precision_score(y_test, y_pred))\n",
    "print(\"Recall:\", metrics.recall_score(y_test, y_pred))\n",
    "print(\"F1-score:\", (2*metrics.precision_score(y_test, y_pred)*metrics.recall_score(y_test, y_pred)) / (metrics.precision_score(y_test, y_pred) + metrics.recall_score(y_test, y_pred)))"
   ]
  },
  {
   "cell_type": "markdown",
   "id": "15e5cca5",
   "metadata": {},
   "source": [
    "# SVM Classifier"
   ]
  },
  {
   "cell_type": "code",
   "execution_count": 20,
   "id": "3438b09f",
   "metadata": {},
   "outputs": [
    {
     "name": "stdout",
     "output_type": "stream",
     "text": [
      "Confusion Matrix : \n",
      " [[9568    2]\n",
      " [   6 5424]]\n",
      "\n",
      "Accuracy: 0.9994666666666666\n",
      "Precision: 0.9996314043494287\n",
      "Recall: 0.9988950276243094\n",
      "F1-score: 0.9992630803242446\n"
     ]
    }
   ],
   "source": [
    "X = dataset.drop('stabf', axis=1)\n",
    "y = dataset['stabf']\n",
    "\n",
    "X_train, X_test, y_train, y_test = train_test_split(X, y, shuffle =True, test_size=0.25, random_state=42)\n",
    "\n",
    "sc = StandardScaler()\n",
    "X_train = sc.fit_transform(X_train)\n",
    "X_test = sc.transform(X_test)\n",
    "\n",
    "clf = svm.SVC(kernel='linear')\n",
    "clf.fit(X_train, y_train)\n",
    "y_pred = clf.predict(X_test)\n",
    "\n",
    "cm = confusion_matrix(y_test, y_pred)  \n",
    "print (\"Confusion Matrix : \\n\", cm)\n",
    "print(\"\")\n",
    "\n",
    "print(\"Accuracy:\", metrics.accuracy_score(y_test, y_pred))\n",
    "print(\"Precision:\", metrics.precision_score(y_test, y_pred))\n",
    "print(\"Recall:\", metrics.recall_score(y_test, y_pred))\n",
    "print(\"F1-score:\", (2*metrics.precision_score(y_test, y_pred)*metrics.recall_score(y_test, y_pred)) / (metrics.precision_score(y_test, y_pred) + metrics.recall_score(y_test, y_pred)))"
   ]
  },
  {
   "cell_type": "markdown",
   "id": "5e85f43f",
   "metadata": {},
   "source": [
    "# Naive-Bayes Classifier"
   ]
  },
  {
   "cell_type": "code",
   "execution_count": 21,
   "id": "00fb5bf6",
   "metadata": {},
   "outputs": [
    {
     "name": "stdout",
     "output_type": "stream",
     "text": [
      "Confusion Matrix : \n",
      " [[9381  189]\n",
      " [ 106 5324]]\n",
      "\n",
      "Accuracy: 0.9803333333333333\n",
      "Precision: 0.9657173952475966\n",
      "Recall: 0.9804788213627993\n",
      "F1-score: 0.973042127387371\n"
     ]
    }
   ],
   "source": [
    "X = dataset.drop('stabf', axis=1)\n",
    "y = dataset['stabf']\n",
    "\n",
    "X_train, X_test, y_train, y_test = train_test_split(X, y, shuffle =True, test_size=0.25, random_state=42)\n",
    "\n",
    "sc = StandardScaler()\n",
    "X_train = sc.fit_transform(X_train)\n",
    "X_test = sc.transform(X_test)\n",
    "\n",
    "gnb = GaussianNB()\n",
    "gnb.fit(X_train, y_train)\n",
    "y_pred = gnb.predict(X_test)\n",
    "\n",
    "cm = confusion_matrix(y_test, y_pred)  \n",
    "print (\"Confusion Matrix : \\n\", cm)\n",
    "print(\"\")\n",
    "\n",
    "print(\"Accuracy:\", metrics.accuracy_score(y_test, y_pred))\n",
    "print(\"Precision:\", metrics.precision_score(y_test, y_pred))\n",
    "print(\"Recall:\", metrics.recall_score(y_test, y_pred))\n",
    "print(\"F1-score:\", (2*metrics.precision_score(y_test, y_pred)*metrics.recall_score(y_test, y_pred)) / (metrics.precision_score(y_test, y_pred) + metrics.recall_score(y_test, y_pred)))"
   ]
  },
  {
   "cell_type": "markdown",
   "id": "284d8aa9",
   "metadata": {},
   "source": [
    "# Logistic Regression Classifier"
   ]
  },
  {
   "cell_type": "code",
   "execution_count": 22,
   "id": "26d56c84",
   "metadata": {},
   "outputs": [
    {
     "name": "stdout",
     "output_type": "stream",
     "text": [
      "Confusion Matrix : \n",
      " [[9567    3]\n",
      " [   5 5425]]\n",
      "\n",
      "Accuracy: 0.9994666666666666\n",
      "Precision: 0.9994473102431835\n",
      "Recall: 0.9990791896869244\n",
      "F1-score: 0.9992632160618897\n"
     ]
    }
   ],
   "source": [
    "X = dataset.drop('stabf', axis=1)\n",
    "y = dataset['stabf']\n",
    "\n",
    "X_train, X_test, y_train, y_test = train_test_split(X, y, shuffle =True, test_size=0.25, random_state=42)\n",
    "\n",
    "sc = StandardScaler()\n",
    "X_train = sc.fit_transform(X_train)\n",
    "X_test = sc.transform(X_test)\n",
    "\n",
    "clf = LogisticRegression(random_state = 0)\n",
    "clf.fit(X_train, y_train)\n",
    "y_pred = clf.predict(X_test)\n",
    "\n",
    "cm = confusion_matrix(y_test, y_pred)  \n",
    "print (\"Confusion Matrix : \\n\", cm)\n",
    "print(\"\")\n",
    "\n",
    "print(\"Accuracy:\", metrics.accuracy_score(y_test, y_pred))\n",
    "print(\"Precision:\", metrics.precision_score(y_test, y_pred))\n",
    "print(\"Recall:\", metrics.recall_score(y_test, y_pred))\n",
    "print(\"F1-score:\", (2*metrics.precision_score(y_test, y_pred)*metrics.recall_score(y_test, y_pred)) / (metrics.precision_score(y_test, y_pred) + metrics.recall_score(y_test, y_pred)))"
   ]
  },
  {
   "cell_type": "markdown",
   "id": "9f386d5b",
   "metadata": {},
   "source": [
    "# Single Perceptron Classifier"
   ]
  },
  {
   "cell_type": "code",
   "execution_count": 23,
   "id": "20394a3a",
   "metadata": {},
   "outputs": [
    {
     "name": "stdout",
     "output_type": "stream",
     "text": [
      "Confusion Matrix : \n",
      " [[9541   29]\n",
      " [  25 5405]]\n",
      "\n",
      "Accuracy: 0.9964\n",
      "Precision: 0.9946632315053368\n",
      "Recall: 0.9953959484346224\n",
      "F1-score: 0.9950294550810014\n"
     ]
    }
   ],
   "source": [
    "X = dataset.drop('stabf', axis=1)\n",
    "y = dataset['stabf']\n",
    "\n",
    "X_train, X_test, y_train, y_test = train_test_split(X, y, shuffle =True, test_size=0.25, random_state=42)\n",
    "\n",
    "sc = StandardScaler()\n",
    "X_train = sc.fit_transform(X_train)\n",
    "X_test = sc.transform(X_test)\n",
    "\n",
    "clf = Perceptron(tol=1e-3, random_state=0)\n",
    "clf.fit(X_train, y_train)\n",
    "y_pred = clf.predict(X_test)\n",
    "\n",
    "cm = confusion_matrix(y_test, y_pred)  \n",
    "print (\"Confusion Matrix : \\n\", cm)\n",
    "print(\"\")\n",
    "\n",
    "print(\"Accuracy:\", metrics.accuracy_score(y_test, y_pred))\n",
    "print(\"Precision:\", metrics.precision_score(y_test, y_pred))\n",
    "print(\"Recall:\", metrics.recall_score(y_test, y_pred))\n",
    "print(\"F1-score:\", (2*metrics.precision_score(y_test, y_pred)*metrics.recall_score(y_test, y_pred)) / (metrics.precision_score(y_test, y_pred) + metrics.recall_score(y_test, y_pred)))"
   ]
  },
  {
   "cell_type": "markdown",
   "id": "a46022bd",
   "metadata": {},
   "source": [
    "# Decision Tree Classifier"
   ]
  },
  {
   "cell_type": "code",
   "execution_count": 24,
   "id": "a72ab750",
   "metadata": {},
   "outputs": [
    {
     "name": "stdout",
     "output_type": "stream",
     "text": [
      "Confusion Matrix : \n",
      " [[9570    0]\n",
      " [   0 5430]]\n",
      "\n",
      "Accuracy: 1.0\n",
      "Precision: 1.0\n",
      "Recall: 1.0\n",
      "F1-score: 1.0\n"
     ]
    }
   ],
   "source": [
    "X = dataset.drop('stabf', axis=1)\n",
    "y = dataset['stabf']\n",
    "\n",
    "X_train, X_test, y_train, y_test = train_test_split(X, y, shuffle =True, test_size=0.25, random_state=42)\n",
    "\n",
    "sc = StandardScaler()\n",
    "X_train = sc.fit_transform(X_train)\n",
    "X_test = sc.transform(X_test)\n",
    "\n",
    "clf = DecisionTreeClassifier()\n",
    "clf = clf.fit(X_train,y_train)\n",
    "y_pred = clf.predict(X_test)\n",
    "\n",
    "cm = confusion_matrix(y_test, y_pred)  \n",
    "print (\"Confusion Matrix : \\n\", cm)\n",
    "print(\"\")\n",
    "\n",
    "print(\"Accuracy:\", metrics.accuracy_score(y_test, y_pred))\n",
    "print(\"Precision:\", metrics.precision_score(y_test, y_pred))\n",
    "print(\"Recall:\", metrics.recall_score(y_test, y_pred))\n",
    "print(\"F1-score:\", (2*metrics.precision_score(y_test, y_pred)*metrics.recall_score(y_test, y_pred)) / (metrics.precision_score(y_test, y_pred) + metrics.recall_score(y_test, y_pred)))"
   ]
  },
  {
   "cell_type": "markdown",
   "id": "b81606be",
   "metadata": {},
   "source": [
    "# Random Forest Classifier"
   ]
  },
  {
   "cell_type": "code",
   "execution_count": 25,
   "id": "4762bf74",
   "metadata": {},
   "outputs": [
    {
     "name": "stdout",
     "output_type": "stream",
     "text": [
      "Confusion Matrix : \n",
      " [[9570    0]\n",
      " [   0 5430]]\n",
      "\n",
      "Accuracy: 1.0\n",
      "Precision: 1.0\n",
      "Recall: 1.0\n",
      "F1-score: 1.0\n"
     ]
    }
   ],
   "source": [
    "X = dataset.drop('stabf', axis=1)\n",
    "y = dataset['stabf']\n",
    "\n",
    "X_train, X_test, y_train, y_test = train_test_split(X, y, shuffle =True, test_size=0.25, random_state=42)\n",
    "\n",
    "sc = StandardScaler()\n",
    "X_train = sc.fit_transform(X_train)\n",
    "X_test = sc.transform(X_test)\n",
    "\n",
    "clf = RandomForestClassifier()\n",
    "clf = clf.fit(X_train,y_train)\n",
    "y_pred = clf.predict(X_test)\n",
    "\n",
    "cm = confusion_matrix(y_test, y_pred)  \n",
    "print (\"Confusion Matrix : \\n\", cm)\n",
    "print(\"\")\n",
    "\n",
    "print(\"Accuracy:\", metrics.accuracy_score(y_test, y_pred))\n",
    "print(\"Precision:\", metrics.precision_score(y_test, y_pred))\n",
    "print(\"Recall:\", metrics.recall_score(y_test, y_pred))\n",
    "print(\"F1-score:\", (2*metrics.precision_score(y_test, y_pred)*metrics.recall_score(y_test, y_pred)) / (metrics.precision_score(y_test, y_pred) + metrics.recall_score(y_test, y_pred)))"
   ]
  },
  {
   "cell_type": "code",
   "execution_count": 26,
   "id": "74071246",
   "metadata": {},
   "outputs": [],
   "source": [
    "# Deep Learning Model\n",
    "\n",
    "#X = dataset.drop('Outcome', axis=1)\n",
    "#y = dataset['Outcome']\n",
    "\n",
    "#X_train, X_test, y_train, y_test = train_test_split(X, y, shuffle =True, test_size=0.25, random_state=42)\n",
    "\n",
    "#sc = StandardScaler()\n",
    "#X_train = sc.fit_transform(X_train)\n",
    "#X_test = sc.transform(X_test)\n",
    "\n",
    "#model = Sequential()\n",
    "#model.add(Dense(12, input_dim=8, activation='relu'))\n",
    "#model.add(Dense(8, activation='relu'))\n",
    "#model.add(Dense(1, activation='sigmoid'))\n",
    "\n",
    "#model.compile(loss='binary_crossentropy', optimizer='adam', metrics=['accuracy'])\n",
    "#model.fit(X, y, epochs=150, batch_size=10)\n",
    "\n",
    "#cm = confusion_matrix(y_test, y_pred)  \n",
    "#print (\"Confusion Matrix : \\n\", cm)\n",
    "#print(\"\")\n",
    "\n",
    "#print(\"Accuracy:\", metrics.accuracy_score(y_test, y_pred))\n",
    "#print(\"Precision:\", metrics.precision_score(y_test, y_pred))\n",
    "#print(\"Recall:\", metrics.recall_score(y_test, y_pred))\n",
    "#print(\"F1-score:\", (2*metrics.precision_score(y_test, y_pred)*metrics.recall_score(y_test, y_pred)) / (metrics.precision_score(y_test, y_pred) + metrics.recall_score(y_test, y_pred)))"
   ]
  }
 ],
 "metadata": {
  "kernelspec": {
   "display_name": "Python 3",
   "language": "python",
   "name": "python3"
  },
  "language_info": {
   "codemirror_mode": {
    "name": "ipython",
    "version": 3
   },
   "file_extension": ".py",
   "mimetype": "text/x-python",
   "name": "python",
   "nbconvert_exporter": "python",
   "pygments_lexer": "ipython3",
   "version": "3.8.8"
  }
 },
 "nbformat": 4,
 "nbformat_minor": 5
}
