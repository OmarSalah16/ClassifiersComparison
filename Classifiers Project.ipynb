{
 "cells": [
  {
   "cell_type": "code",
   "execution_count": 12,
   "id": "6547494b",
   "metadata": {},
   "outputs": [],
   "source": [
    "import pandas as pd\n",
    "import numpy as np\n",
    "import matplotlib.pyplot as plt\n",
    "\n",
    "from sklearn.ensemble import RandomForestClassifier\n",
    "from sklearn.tree import DecisionTreeClassifier\n",
    "from sklearn.linear_model import Perceptron\n",
    "from sklearn.linear_model import LogisticRegression\n",
    "from sklearn import svm\n",
    "from sklearn.neighbors import KNeighborsClassifier\n",
    "\n",
    "from sklearn.metrics import confusion_matrix\n",
    "from sklearn.naive_bayes import GaussianNB\n",
    "from sklearn import metrics\n",
    "\n",
    "from sklearn.model_selection import train_test_split\n",
    "from sklearn.preprocessing import LabelEncoder, StandardScaler\n",
    "#from keras.models import Sequential\n",
    "#from keras.layers import Dense\n",
    "#from numpy import loadtxt"
   ]
  },
  {
   "cell_type": "markdown",
   "id": "f4cbd849",
   "metadata": {},
   "source": [
    "# Reading .csv file"
   ]
  },
  {
   "cell_type": "code",
   "execution_count": 13,
   "id": "d8f87270",
   "metadata": {
    "scrolled": false
   },
   "outputs": [
    {
     "name": "stdout",
     "output_type": "stream",
     "text": [
      "      Pregnancies  Glucose  BloodPressure  SkinThickness  Insulin   BMI  \\\n",
      "0               2      138             62             35        0  33.6   \n",
      "1               0       84             82             31      125  38.2   \n",
      "2               0      145              0              0        0  44.2   \n",
      "3               0      135             68             42      250  42.3   \n",
      "4               1      139             62             41      480  40.7   \n",
      "...           ...      ...            ...            ...      ...   ...   \n",
      "1995            2       75             64             24       55  29.7   \n",
      "1996            8      179             72             42      130  32.7   \n",
      "1997            6       85             78              0        0  31.2   \n",
      "1998            0      129            110             46      130  67.1   \n",
      "1999            2       81             72             15       76  30.1   \n",
      "\n",
      "      DiabetesPedigreeFunction  Age  Outcome  \n",
      "0                        0.127   47        1  \n",
      "1                        0.233   23        0  \n",
      "2                        0.630   31        1  \n",
      "3                        0.365   24        1  \n",
      "4                        0.536   21        0  \n",
      "...                        ...  ...      ...  \n",
      "1995                     0.370   33        0  \n",
      "1996                     0.719   36        1  \n",
      "1997                     0.382   42        0  \n",
      "1998                     0.319   26        1  \n",
      "1999                     0.547   25        0  \n",
      "\n",
      "[2000 rows x 9 columns]\n"
     ]
    }
   ],
   "source": [
    "dataset = pd.read_csv('F:\\MIU stuff\\Semester 7\\Selected Topics\\Project\\diabetes.csv')\n",
    "print (dataset)"
   ]
  },
  {
   "cell_type": "markdown",
   "id": "137a35ab",
   "metadata": {},
   "source": [
    "# Pre-processing (Replacing Null Values with Mean)"
   ]
  },
  {
   "cell_type": "code",
   "execution_count": 14,
   "id": "6e0acbf8",
   "metadata": {},
   "outputs": [
    {
     "name": "stdout",
     "output_type": "stream",
     "text": [
      "      Pregnancies  Glucose  BloodPressure  SkinThickness  Insulin   BMI  \\\n",
      "0               2    138.0        62.0000         35.000   80.254  33.6   \n",
      "1               0     84.0        82.0000         31.000  125.000  38.2   \n",
      "2               0    145.0        69.1455         20.935   80.254  44.2   \n",
      "3               0    135.0        68.0000         42.000  250.000  42.3   \n",
      "4               1    139.0        62.0000         41.000  480.000  40.7   \n",
      "...           ...      ...            ...            ...      ...   ...   \n",
      "1995            2     75.0        64.0000         24.000   55.000  29.7   \n",
      "1996            8    179.0        72.0000         42.000  130.000  32.7   \n",
      "1997            6     85.0        78.0000         20.935   80.254  31.2   \n",
      "1998            0    129.0       110.0000         46.000  130.000  67.1   \n",
      "1999            2     81.0        72.0000         15.000   76.000  30.1   \n",
      "\n",
      "      DiabetesPedigreeFunction  Age  Outcome  \n",
      "0                        0.127   47        1  \n",
      "1                        0.233   23        0  \n",
      "2                        0.630   31        1  \n",
      "3                        0.365   24        1  \n",
      "4                        0.536   21        0  \n",
      "...                        ...  ...      ...  \n",
      "1995                     0.370   33        0  \n",
      "1996                     0.719   36        1  \n",
      "1997                     0.382   42        0  \n",
      "1998                     0.319   26        1  \n",
      "1999                     0.547   25        0  \n",
      "\n",
      "[2000 rows x 9 columns]\n"
     ]
    }
   ],
   "source": [
    "dataset['Glucose'].replace(0, 121.1825, inplace = True)\n",
    "dataset['BloodPressure'].replace(0, 69.1455, inplace = True)\n",
    "dataset['SkinThickness'].replace(0, 20.935, inplace = True)\n",
    "dataset['Insulin'].replace(0, 80.254, inplace = True)\n",
    "dataset['BMI'].replace(np.NaN, 32.193, inplace = True)\n",
    "dataset['DiabetesPedigreeFunction'].replace(0, 0.47093, inplace = True)\n",
    "dataset['Age'].replace(0, 33, inplace = True)\n",
    "print(dataset)"
   ]
  },
  {
   "cell_type": "markdown",
   "id": "25855968",
   "metadata": {},
   "source": [
    "# KNN Classifier"
   ]
  },
  {
   "cell_type": "code",
   "execution_count": 15,
   "id": "592a37ef",
   "metadata": {},
   "outputs": [
    {
     "name": "stdout",
     "output_type": "stream",
     "text": [
      "Confusion Matrix : \n",
      " [[278  42]\n",
      " [ 57 123]]\n",
      "\n",
      "Accuracy: 0.802\n",
      "Precision: 0.7454545454545455\n",
      "Recall: 0.6833333333333333\n",
      "F1-score: 0.7130434782608696\n"
     ]
    }
   ],
   "source": [
    "X = dataset.drop('Outcome', axis=1)\n",
    "y = dataset['Outcome']\n",
    "\n",
    "X_train, X_test, y_train, y_test = train_test_split(X, y, shuffle =True, test_size=0.25, random_state=42)\n",
    "\n",
    "sc = StandardScaler()\n",
    "X_train = sc.fit_transform(X_train)\n",
    "X_test = sc.transform(X_test)\n",
    "\n",
    "knn = KNeighborsClassifier(n_neighbors = 7)\n",
    "knn.fit(X_train, y_train)\n",
    "y_pred = knn.predict(X_test)\n",
    "\n",
    "cm = confusion_matrix(y_test, y_pred)  \n",
    "print (\"Confusion Matrix : \\n\", cm)\n",
    "print(\"\")\n",
    "\n",
    "print(\"Accuracy:\", metrics.accuracy_score(y_test, y_pred))\n",
    "print(\"Precision:\", metrics.precision_score(y_test, y_pred))\n",
    "print(\"Recall:\", metrics.recall_score(y_test, y_pred))\n",
    "print(\"F1-score:\", (2*metrics.precision_score(y_test, y_pred)*metrics.recall_score(y_test, y_pred)) / (metrics.precision_score(y_test, y_pred) + metrics.recall_score(y_test, y_pred)))"
   ]
  },
  {
   "cell_type": "markdown",
   "id": "15e5cca5",
   "metadata": {},
   "source": [
    "# SVM Classifier"
   ]
  },
  {
   "cell_type": "code",
   "execution_count": 16,
   "id": "3438b09f",
   "metadata": {},
   "outputs": [
    {
     "name": "stdout",
     "output_type": "stream",
     "text": [
      "Confusion Matrix : \n",
      " [[284  36]\n",
      " [ 75 105]]\n",
      "\n",
      "Accuracy: 0.778\n",
      "Precision: 0.7446808510638298\n",
      "Recall: 0.5833333333333334\n",
      "F1-score: 0.6542056074766355\n"
     ]
    }
   ],
   "source": [
    "X = dataset.drop('Outcome', axis=1)\n",
    "y = dataset['Outcome']\n",
    "\n",
    "X_train, X_test, y_train, y_test = train_test_split(X, y, shuffle =True, test_size=0.25, random_state=42)\n",
    "\n",
    "sc = StandardScaler()\n",
    "X_train = sc.fit_transform(X_train)\n",
    "X_test = sc.transform(X_test)\n",
    "\n",
    "clf = svm.SVC(kernel='linear')\n",
    "clf.fit(X_train, y_train)\n",
    "y_pred = clf.predict(X_test)\n",
    "\n",
    "cm = confusion_matrix(y_test, y_pred)  \n",
    "print (\"Confusion Matrix : \\n\", cm)\n",
    "print(\"\")\n",
    "\n",
    "print(\"Accuracy:\", metrics.accuracy_score(y_test, y_pred))\n",
    "print(\"Precision:\", metrics.precision_score(y_test, y_pred))\n",
    "print(\"Recall:\", metrics.recall_score(y_test, y_pred))\n",
    "print(\"F1-score:\", (2*metrics.precision_score(y_test, y_pred)*metrics.recall_score(y_test, y_pred)) / (metrics.precision_score(y_test, y_pred) + metrics.recall_score(y_test, y_pred)))"
   ]
  },
  {
   "cell_type": "markdown",
   "id": "5e85f43f",
   "metadata": {},
   "source": [
    "# Naive-Bayes Classifier"
   ]
  },
  {
   "cell_type": "code",
   "execution_count": 17,
   "id": "00fb5bf6",
   "metadata": {},
   "outputs": [
    {
     "name": "stdout",
     "output_type": "stream",
     "text": [
      "Confusion Matrix : \n",
      " [[275  45]\n",
      " [ 64 116]]\n",
      "\n",
      "Accuracy: 0.782\n",
      "Precision: 0.7204968944099379\n",
      "Recall: 0.6444444444444445\n",
      "F1-score: 0.6803519061583578\n"
     ]
    }
   ],
   "source": [
    "X = dataset.drop('Outcome', axis=1)\n",
    "y = dataset['Outcome']\n",
    "\n",
    "X_train, X_test, y_train, y_test = train_test_split(X, y, shuffle =True, test_size=0.25, random_state=42)\n",
    "\n",
    "sc = StandardScaler()\n",
    "X_train = sc.fit_transform(X_train)\n",
    "X_test = sc.transform(X_test)\n",
    "\n",
    "gnb = GaussianNB()\n",
    "gnb.fit(X_train, y_train)\n",
    "y_pred = gnb.predict(X_test)\n",
    "\n",
    "cm = confusion_matrix(y_test, y_pred)  \n",
    "print (\"Confusion Matrix : \\n\", cm)\n",
    "print(\"\")\n",
    "\n",
    "print(\"Accuracy:\", metrics.accuracy_score(y_test, y_pred))\n",
    "print(\"Precision:\", metrics.precision_score(y_test, y_pred))\n",
    "print(\"Recall:\", metrics.recall_score(y_test, y_pred))\n",
    "print(\"F1-score:\", (2*metrics.precision_score(y_test, y_pred)*metrics.recall_score(y_test, y_pred)) / (metrics.precision_score(y_test, y_pred) + metrics.recall_score(y_test, y_pred)))"
   ]
  },
  {
   "cell_type": "markdown",
   "id": "284d8aa9",
   "metadata": {},
   "source": [
    "# Logistic Regression Classifier"
   ]
  },
  {
   "cell_type": "code",
   "execution_count": 18,
   "id": "26d56c84",
   "metadata": {},
   "outputs": [
    {
     "name": "stdout",
     "output_type": "stream",
     "text": [
      "Confusion Matrix : \n",
      " [[290  30]\n",
      " [ 75 105]]\n",
      "\n",
      "Accuracy: 0.79\n",
      "Precision: 0.7777777777777778\n",
      "Recall: 0.5833333333333334\n",
      "F1-score: 0.6666666666666666\n"
     ]
    }
   ],
   "source": [
    "X = dataset.drop('Outcome', axis=1)\n",
    "y = dataset['Outcome']\n",
    "\n",
    "X_train, X_test, y_train, y_test = train_test_split(X, y, shuffle =True, test_size=0.25, random_state=42)\n",
    "\n",
    "sc = StandardScaler()\n",
    "X_train = sc.fit_transform(X_train)\n",
    "X_test = sc.transform(X_test)\n",
    "\n",
    "clf = LogisticRegression(random_state = 0)\n",
    "clf.fit(X_train, y_train)\n",
    "y_pred = clf.predict(X_test)\n",
    "\n",
    "cm = confusion_matrix(y_test, y_pred)  \n",
    "print (\"Confusion Matrix : \\n\", cm)\n",
    "print(\"\")\n",
    "\n",
    "print(\"Accuracy:\", metrics.accuracy_score(y_test, y_pred))\n",
    "print(\"Precision:\", metrics.precision_score(y_test, y_pred))\n",
    "print(\"Recall:\", metrics.recall_score(y_test, y_pred))\n",
    "print(\"F1-score:\", (2*metrics.precision_score(y_test, y_pred)*metrics.recall_score(y_test, y_pred)) / (metrics.precision_score(y_test, y_pred) + metrics.recall_score(y_test, y_pred)))"
   ]
  },
  {
   "cell_type": "markdown",
   "id": "9f386d5b",
   "metadata": {},
   "source": [
    "# Single Perceptron Classifier"
   ]
  },
  {
   "cell_type": "code",
   "execution_count": 19,
   "id": "20394a3a",
   "metadata": {},
   "outputs": [
    {
     "name": "stdout",
     "output_type": "stream",
     "text": [
      "Confusion Matrix : \n",
      " [[299  21]\n",
      " [129  51]]\n",
      "\n",
      "Accuracy: 0.7\n",
      "Precision: 0.7083333333333334\n",
      "Recall: 0.2833333333333333\n",
      "F1-score: 0.40476190476190477\n"
     ]
    }
   ],
   "source": [
    "X = dataset.drop('Outcome', axis=1)\n",
    "y = dataset['Outcome']\n",
    "\n",
    "X_train, X_test, y_train, y_test = train_test_split(X, y, shuffle =True, test_size=0.25, random_state=42)\n",
    "\n",
    "sc = StandardScaler()\n",
    "X_train = sc.fit_transform(X_train)\n",
    "X_test = sc.transform(X_test)\n",
    "\n",
    "clf = Perceptron(tol=1e-3, random_state=0)\n",
    "clf.fit(X_train, y_train)\n",
    "y_pred = clf.predict(X_test)\n",
    "\n",
    "cm = confusion_matrix(y_test, y_pred)  \n",
    "print (\"Confusion Matrix : \\n\", cm)\n",
    "print(\"\")\n",
    "\n",
    "print(\"Accuracy:\", metrics.accuracy_score(y_test, y_pred))\n",
    "print(\"Precision:\", metrics.precision_score(y_test, y_pred))\n",
    "print(\"Recall:\", metrics.recall_score(y_test, y_pred))\n",
    "print(\"F1-score:\", (2*metrics.precision_score(y_test, y_pred)*metrics.recall_score(y_test, y_pred)) / (metrics.precision_score(y_test, y_pred) + metrics.recall_score(y_test, y_pred)))"
   ]
  },
  {
   "cell_type": "markdown",
   "id": "a46022bd",
   "metadata": {},
   "source": [
    "# Decision Tree Classifier"
   ]
  },
  {
   "cell_type": "code",
   "execution_count": 20,
   "id": "a72ab750",
   "metadata": {},
   "outputs": [
    {
     "name": "stdout",
     "output_type": "stream",
     "text": [
      "Confusion Matrix : \n",
      " [[303  17]\n",
      " [  4 176]]\n",
      "\n",
      "Accuracy: 0.958\n",
      "Precision: 0.9119170984455959\n",
      "Recall: 0.9777777777777777\n",
      "F1-score: 0.9436997319034852\n"
     ]
    }
   ],
   "source": [
    "X = dataset.drop('Outcome', axis=1)\n",
    "y = dataset['Outcome']\n",
    "\n",
    "X_train, X_test, y_train, y_test = train_test_split(X, y, shuffle =True, test_size=0.25, random_state=42)\n",
    "\n",
    "sc = StandardScaler()\n",
    "X_train = sc.fit_transform(X_train)\n",
    "X_test = sc.transform(X_test)\n",
    "\n",
    "clf = DecisionTreeClassifier()\n",
    "clf = clf.fit(X_train,y_train)\n",
    "y_pred = clf.predict(X_test)\n",
    "\n",
    "cm = confusion_matrix(y_test, y_pred)  \n",
    "print (\"Confusion Matrix : \\n\", cm)\n",
    "print(\"\")\n",
    "\n",
    "print(\"Accuracy:\", metrics.accuracy_score(y_test, y_pred))\n",
    "print(\"Precision:\", metrics.precision_score(y_test, y_pred))\n",
    "print(\"Recall:\", metrics.recall_score(y_test, y_pred))\n",
    "print(\"F1-score:\", (2*metrics.precision_score(y_test, y_pred)*metrics.recall_score(y_test, y_pred)) / (metrics.precision_score(y_test, y_pred) + metrics.recall_score(y_test, y_pred)))"
   ]
  },
  {
   "cell_type": "markdown",
   "id": "b81606be",
   "metadata": {},
   "source": [
    "# Random Forest Classifier"
   ]
  },
  {
   "cell_type": "code",
   "execution_count": 21,
   "id": "4762bf74",
   "metadata": {},
   "outputs": [
    {
     "name": "stdout",
     "output_type": "stream",
     "text": [
      "Confusion Matrix : \n",
      " [[315   5]\n",
      " [  6 174]]\n",
      "\n",
      "Accuracy: 0.978\n",
      "Precision: 0.9720670391061452\n",
      "Recall: 0.9666666666666667\n",
      "F1-score: 0.9693593314763231\n"
     ]
    }
   ],
   "source": [
    "X = dataset.drop('Outcome', axis=1)\n",
    "y = dataset['Outcome']\n",
    "\n",
    "X_train, X_test, y_train, y_test = train_test_split(X, y, shuffle =True, test_size=0.25, random_state=42)\n",
    "\n",
    "sc = StandardScaler()\n",
    "X_train = sc.fit_transform(X_train)\n",
    "X_test = sc.transform(X_test)\n",
    "\n",
    "clf = RandomForestClassifier()\n",
    "clf = clf.fit(X_train,y_train)\n",
    "y_pred = clf.predict(X_test)\n",
    "\n",
    "cm = confusion_matrix(y_test, y_pred)  \n",
    "print (\"Confusion Matrix : \\n\", cm)\n",
    "print(\"\")\n",
    "\n",
    "print(\"Accuracy:\", metrics.accuracy_score(y_test, y_pred))\n",
    "print(\"Precision:\", metrics.precision_score(y_test, y_pred))\n",
    "print(\"Recall:\", metrics.recall_score(y_test, y_pred))\n",
    "print(\"F1-score:\", (2*metrics.precision_score(y_test, y_pred)*metrics.recall_score(y_test, y_pred)) / (metrics.precision_score(y_test, y_pred) + metrics.recall_score(y_test, y_pred)))"
   ]
  },
  {
   "cell_type": "code",
   "execution_count": 22,
   "id": "74071246",
   "metadata": {},
   "outputs": [],
   "source": [
    "# Deep Learning Model\n",
    "\n",
    "#X = dataset.drop('Outcome', axis=1)\n",
    "#y = dataset['Outcome']\n",
    "\n",
    "#X_train, X_test, y_train, y_test = train_test_split(X, y, shuffle =True, test_size=0.25, random_state=42)\n",
    "\n",
    "#sc = StandardScaler()\n",
    "#X_train = sc.fit_transform(X_train)\n",
    "#X_test = sc.transform(X_test)\n",
    "\n",
    "#model = Sequential()\n",
    "#model.add(Dense(12, input_dim=8, activation='relu'))\n",
    "#model.add(Dense(8, activation='relu'))\n",
    "#model.add(Dense(1, activation='sigmoid'))\n",
    "\n",
    "#model.compile(loss='binary_crossentropy', optimizer='adam', metrics=['accuracy'])\n",
    "#model.fit(X, y, epochs=150, batch_size=10)\n",
    "\n",
    "#cm = confusion_matrix(y_test, y_pred)  \n",
    "#print (\"Confusion Matrix : \\n\", cm)\n",
    "#print(\"\")\n",
    "\n",
    "#print(\"Accuracy:\", metrics.accuracy_score(y_test, y_pred))\n",
    "#print(\"Precision:\", metrics.precision_score(y_test, y_pred))\n",
    "#print(\"Recall:\", metrics.recall_score(y_test, y_pred))\n",
    "#print(\"F1-score:\", (2*metrics.precision_score(y_test, y_pred)*metrics.recall_score(y_test, y_pred)) / (metrics.precision_score(y_test, y_pred) + metrics.recall_score(y_test, y_pred)))"
   ]
  }
 ],
 "metadata": {
  "kernelspec": {
   "display_name": "Python 3",
   "language": "python",
   "name": "python3"
  },
  "language_info": {
   "codemirror_mode": {
    "name": "ipython",
    "version": 3
   },
   "file_extension": ".py",
   "mimetype": "text/x-python",
   "name": "python",
   "nbconvert_exporter": "python",
   "pygments_lexer": "ipython3",
   "version": "3.8.8"
  }
 },
 "nbformat": 4,
 "nbformat_minor": 5
}
